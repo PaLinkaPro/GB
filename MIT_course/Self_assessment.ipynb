{
 "cells": [
  {
   "cell_type": "markdown",
   "metadata": {},
   "source": [
    "# Self-assessment"
   ]
  },
  {
   "cell_type": "markdown",
   "metadata": {},
   "source": [
    "check if matrix has an inverse"
   ]
  },
  {
   "cell_type": "code",
   "execution_count": 2,
   "metadata": {
    "ExecuteTime": {
     "end_time": "2021-02-05T20:09:46.187052Z",
     "start_time": "2021-02-05T20:09:45.882632Z"
    }
   },
   "outputs": [],
   "source": [
    "import numpy as np"
   ]
  },
  {
   "cell_type": "code",
   "execution_count": 6,
   "metadata": {
    "ExecuteTime": {
     "end_time": "2021-02-05T20:12:04.225058Z",
     "start_time": "2021-02-05T20:12:04.209621Z"
    }
   },
   "outputs": [
    {
     "name": "stdout",
     "output_type": "stream",
     "text": [
      "Singular Matrix\n"
     ]
    }
   ],
   "source": [
    "try:\n",
    "    np.linalg.inv(np.array([[1, 2, 3],[3, 6, 9],[2, 7, 6]]))\n",
    "except:\n",
    "    print('Singular Matrix')"
   ]
  },
  {
   "cell_type": "markdown",
   "metadata": {},
   "source": [
    "Given two lists of numbers, write a procedure that returns a list of the element-wise sum of the number in those two lists. In the following, no imports should be used."
   ]
  },
  {
   "cell_type": "code",
   "execution_count": 7,
   "metadata": {
    "ExecuteTime": {
     "end_time": "2021-02-05T20:13:29.363032Z",
     "start_time": "2021-02-05T20:13:29.351265Z"
    }
   },
   "outputs": [],
   "source": [
    "def add_two_lists(a, b):\n",
    "    result = []\n",
    "    for i, j in zip(a, b):\n",
    "        result.append(i + j)\n",
    "    return result"
   ]
  },
  {
   "cell_type": "markdown",
   "metadata": {},
   "source": [
    "Given two column vectors (each represented as a list of numbers), write a procedure dot that returns the (scalar) dot product of two input vectors, each represented as a list of numbers."
   ]
  },
  {
   "cell_type": "code",
   "execution_count": 8,
   "metadata": {
    "ExecuteTime": {
     "end_time": "2021-02-05T20:13:56.228214Z",
     "start_time": "2021-02-05T20:13:56.220677Z"
    }
   },
   "outputs": [],
   "source": [
    "def dot(v1, v2):\n",
    "    result = 0\n",
    "    for i, j in zip(v1, v2):\n",
    "        result += i * j\n",
    "    return result"
   ]
  },
  {
   "cell_type": "markdown",
   "metadata": {},
   "source": [
    "Write a function add_n that takes a single numeric argument n, and returns a function. The returned function should take a vector v as an argument and return a new vector with the value for n added to each element of vector v. For example, add_n(10)([1, 5, 3]) should return [11, 15, 13]."
   ]
  },
  {
   "cell_type": "code",
   "execution_count": 9,
   "metadata": {
    "ExecuteTime": {
     "end_time": "2021-02-05T20:19:31.022729Z",
     "start_time": "2021-02-05T20:19:31.017042Z"
    }
   },
   "outputs": [],
   "source": [
    "def add_n(n):\n",
    "    def func(v):\n",
    "        result = []\n",
    "        for i in v:\n",
    "            result.append(i + n)\n",
    "        return result\n",
    "    return func"
   ]
  },
  {
   "cell_type": "markdown",
   "metadata": {},
   "source": [
    "Write a function array_mult that takes two two-dimensional arrays and performs a matrix multiplication, return a new two-dimensional array. Each array should be represented as a list of lists, i.e., as a list of rows, as discussed earlier."
   ]
  },
  {
   "cell_type": "code",
   "execution_count": 10,
   "metadata": {
    "ExecuteTime": {
     "end_time": "2021-02-06T09:14:49.606255Z",
     "start_time": "2021-02-06T09:14:49.574829Z"
    }
   },
   "outputs": [],
   "source": [
    "def array_mult(A, B):\n",
    "    B = [*zip(*B)]\n",
    "    result = []\n",
    "    for i in A:\n",
    "        lst2 = []\n",
    "        summ = 0\n",
    "        for j in B:\n",
    "            lst1 = [a * b for a,b in zip(i,j)]\n",
    "            lst2.append(sum(lst1))\n",
    "        result.extend([lst2])\n",
    "    return result"
   ]
  },
  {
   "cell_type": "code",
   "execution_count": null,
   "metadata": {},
   "outputs": [],
   "source": []
  }
 ],
 "metadata": {
  "kernelspec": {
   "display_name": "Python 3",
   "language": "python",
   "name": "python3"
  },
  "language_info": {
   "codemirror_mode": {
    "name": "ipython",
    "version": 3
   },
   "file_extension": ".py",
   "mimetype": "text/x-python",
   "name": "python",
   "nbconvert_exporter": "python",
   "pygments_lexer": "ipython3",
   "version": "3.9.1"
  }
 },
 "nbformat": 4,
 "nbformat_minor": 4
}
