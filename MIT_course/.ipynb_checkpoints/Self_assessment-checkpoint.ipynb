{
 "cells": [
  {
   "cell_type": "markdown",
   "metadata": {},
   "source": [
    "# Self-assessment"
   ]
  },
  {
   "cell_type": "markdown",
   "metadata": {},
   "source": [
    "check if matrix has an inverse"
   ]
  },
  {
   "cell_type": "code",
   "execution_count": 2,
   "metadata": {
    "ExecuteTime": {
     "end_time": "2021-02-05T20:09:46.187052Z",
     "start_time": "2021-02-05T20:09:45.882632Z"
    }
   },
   "outputs": [],
   "source": [
    "import numpy as np"
   ]
  },
  {
   "cell_type": "code",
   "execution_count": 6,
   "metadata": {
    "ExecuteTime": {
     "end_time": "2021-02-05T20:12:04.225058Z",
     "start_time": "2021-02-05T20:12:04.209621Z"
    }
   },
   "outputs": [
    {
     "name": "stdout",
     "output_type": "stream",
     "text": [
      "Singular Matrix\n"
     ]
    }
   ],
   "source": [
    "try:\n",
    "    np.linalg.inv(np.array([[1, 2, 3],[3, 6, 9],[2, 7, 6]]))\n",
    "except:\n",
    "    print('Singular Matrix')"
   ]
  },
  {
   "cell_type": "markdown",
   "metadata": {},
   "source": [
    "Given two lists of numbers, write a procedure that returns a list of the element-wise sum of the number in those two lists. In the following, no imports should be used."
   ]
  },
  {
   "cell_type": "code",
   "execution_count": 7,
   "metadata": {
    "ExecuteTime": {
     "end_time": "2021-02-05T20:13:29.363032Z",
     "start_time": "2021-02-05T20:13:29.351265Z"
    }
   },
   "outputs": [],
   "source": [
    "def add_two_lists(a, b):\n",
    "    result = []\n",
    "    for i, j in zip(a, b):\n",
    "        result.append(i + j)\n",
    "    return result"
   ]
  },
  {
   "cell_type": "markdown",
   "metadata": {},
   "source": [
    "Given two column vectors (each represented as a list of numbers), write a procedure dot that returns the (scalar) dot product of two input vectors, each represented as a list of numbers."
   ]
  },
  {
   "cell_type": "code",
   "execution_count": 8,
   "metadata": {
    "ExecuteTime": {
     "end_time": "2021-02-05T20:13:56.228214Z",
     "start_time": "2021-02-05T20:13:56.220677Z"
    }
   },
   "outputs": [],
   "source": [
    "def dot(v1, v2):\n",
    "    result = 0\n",
    "    for i, j in zip(v1, v2):\n",
    "        result += i * j\n",
    "    return result"
   ]
  },
  {
   "cell_type": "markdown",
   "metadata": {},
   "source": [
    "Write a function add_n that takes a single numeric argument n, and returns a function. The returned function should take a vector v as an argument and return a new vector with the value for n added to each element of vector v. For example, add_n(10)([1, 5, 3]) should return [11, 15, 13]."
   ]
  },
  {
   "cell_type": "code",
   "execution_count": 9,
   "metadata": {
    "ExecuteTime": {
     "end_time": "2021-02-05T20:19:31.022729Z",
     "start_time": "2021-02-05T20:19:31.017042Z"
    }
   },
   "outputs": [],
   "source": [
    "def add_n(n):\n",
    "    def func(v):\n",
    "        result = []\n",
    "        for i in v:\n",
    "            result.append(i + n)\n",
    "        return result\n",
    "    return func"
   ]
  },
  {
   "cell_type": "markdown",
   "metadata": {},
   "source": [
    "Write a function array_mult that takes two two-dimensional arrays and performs a matrix multiplication, return a new two-dimensional array. Each array should be represented as a list of lists, i.e., as a list of rows, as discussed earlier."
   ]
  },
  {
   "cell_type": "code",
   "execution_count": 10,
   "metadata": {
    "ExecuteTime": {
     "end_time": "2021-02-06T09:14:49.606255Z",
     "start_time": "2021-02-06T09:14:49.574829Z"
    }
   },
   "outputs": [],
   "source": [
    "def array_mult(A, B):\n",
    "    B = [*zip(*B)]\n",
    "    result = []\n",
    "    for i in A:\n",
    "        lst2 = []\n",
    "        for j in B:\n",
    "            lst1 = [a * b for a,b in zip(i,j)]\n",
    "            lst2.append(sum(lst1))\n",
    "        result.extend([lst2])\n",
    "    return result"
   ]
  },
  {
   "cell_type": "markdown",
   "metadata": {
    "ExecuteTime": {
     "end_time": "2021-02-06T15:54:56.373342Z",
     "start_time": "2021-02-06T15:54:56.331068Z"
    }
   },
   "source": [
    "## Week 1 Exersises"
   ]
  },
  {
   "cell_type": "markdown",
   "metadata": {},
   "source": [
    "Provide an expression that sets A to be a 2×3 numpy array (2 rows by 3 columns), containing any values you wish."
   ]
  },
  {
   "cell_type": "code",
   "execution_count": 12,
   "metadata": {
    "ExecuteTime": {
     "end_time": "2021-02-06T20:55:05.126039Z",
     "start_time": "2021-02-06T20:55:05.100121Z"
    }
   },
   "outputs": [],
   "source": [
    "A = np.array([[1, 2, 3,], [4, 5, 6]])"
   ]
  },
  {
   "cell_type": "markdown",
   "metadata": {},
   "source": [
    "Write a procedure that takes an array and returns the transpose of the array. You can use 'np.transpose' or the '.T', but you may not use a loop."
   ]
  },
  {
   "cell_type": "code",
   "execution_count": 13,
   "metadata": {
    "ExecuteTime": {
     "end_time": "2021-02-06T20:56:57.233953Z",
     "start_time": "2021-02-06T20:56:57.223427Z"
    }
   },
   "outputs": [],
   "source": [
    "def tp(A):\n",
    "    return A.T"
   ]
  },
  {
   "cell_type": "markdown",
   "metadata": {},
   "source": [
    "Let A be a 4×2 numpy array, B be a 4×3 array, and C be a 4×1 array. For each of the following expressions, indicate the shape of the result as a tuple of integers (recall python tuples use parentheses, not square brackets, which are for lists, and a tuple of a single object x is written as (x,) with a comma) or \"none\" (as a Python string with quotes) if it is illegal."
   ]
  },
  {
   "cell_type": "markdown",
   "metadata": {},
   "source": [
    "C * C "
   ]
  },
  {
   "cell_type": "code",
   "execution_count": 14,
   "metadata": {
    "ExecuteTime": {
     "end_time": "2021-02-06T20:58:03.440757Z",
     "start_time": "2021-02-06T20:58:03.345951Z"
    }
   },
   "outputs": [
    {
     "data": {
      "text/plain": [
       "[4, 1]"
      ]
     },
     "execution_count": 14,
     "metadata": {},
     "output_type": "execute_result"
    }
   ],
   "source": [
    "[4, 1]"
   ]
  },
  {
   "cell_type": "markdown",
   "metadata": {},
   "source": [
    "np.dot(C, C) "
   ]
  },
  {
   "cell_type": "code",
   "execution_count": 41,
   "metadata": {
    "ExecuteTime": {
     "end_time": "2021-02-06T21:17:27.868044Z",
     "start_time": "2021-02-06T21:17:27.861265Z"
    }
   },
   "outputs": [
    {
     "name": "stdout",
     "output_type": "stream",
     "text": [
      "Illegal\n"
     ]
    }
   ],
   "source": [
    "C = np.array([[1],[2],[3],[4]])\n",
    "try:\n",
    "    np.dot(C, C)\n",
    "except:\n",
    "    print('Illegal')"
   ]
  },
  {
   "cell_type": "markdown",
   "metadata": {},
   "source": [
    "np.dot(np.transpose(C), C) "
   ]
  },
  {
   "cell_type": "code",
   "execution_count": 82,
   "metadata": {
    "ExecuteTime": {
     "end_time": "2021-02-06T23:14:16.878665Z",
     "start_time": "2021-02-06T23:14:16.868704Z"
    }
   },
   "outputs": [
    {
     "data": {
      "text/plain": [
       "(1, 1)"
      ]
     },
     "execution_count": 82,
     "metadata": {},
     "output_type": "execute_result"
    }
   ],
   "source": [
    "np.dot(np.transpose(C), C).shape\n"
   ]
  },
  {
   "cell_type": "markdown",
   "metadata": {},
   "source": [
    "np.dot(A, B) "
   ]
  },
  {
   "cell_type": "code",
   "execution_count": 23,
   "metadata": {
    "ExecuteTime": {
     "end_time": "2021-02-06T21:04:35.534743Z",
     "start_time": "2021-02-06T21:04:35.526322Z"
    }
   },
   "outputs": [
    {
     "name": "stdout",
     "output_type": "stream",
     "text": [
      "Illegal\n"
     ]
    }
   ],
   "source": [
    "A = np.array([[1, 2], [3, 4], [5, 6], [7, 8]])\n",
    "B = np.array([[1, 2, 3], [4, 5, 6], [7, 8, 9], [10, 11, 12]])\n",
    "try:\n",
    "    np.dot(A, B)\n",
    "except:\n",
    "    print('Illegal')"
   ]
  },
  {
   "cell_type": "markdown",
   "metadata": {},
   "source": [
    "np.dot(A.T, B) "
   ]
  },
  {
   "cell_type": "code",
   "execution_count": 25,
   "metadata": {
    "ExecuteTime": {
     "end_time": "2021-02-06T21:04:44.163276Z",
     "start_time": "2021-02-06T21:04:44.154783Z"
    }
   },
   "outputs": [
    {
     "data": {
      "text/plain": [
       "(2, 3)"
      ]
     },
     "execution_count": 25,
     "metadata": {},
     "output_type": "execute_result"
    }
   ],
   "source": [
    "np.dot(A.T, B).shape"
   ]
  },
  {
   "cell_type": "markdown",
   "metadata": {},
   "source": [
    "D = np.array([1,2,3]) "
   ]
  },
  {
   "cell_type": "code",
   "execution_count": 28,
   "metadata": {
    "ExecuteTime": {
     "end_time": "2021-02-06T21:05:42.694712Z",
     "start_time": "2021-02-06T21:05:42.684743Z"
    }
   },
   "outputs": [
    {
     "data": {
      "text/plain": [
       "(3,)"
      ]
     },
     "execution_count": 28,
     "metadata": {},
     "output_type": "execute_result"
    }
   ],
   "source": [
    "D = np.array([1,2,3])\n",
    "D.shape"
   ]
  },
  {
   "cell_type": "markdown",
   "metadata": {},
   "source": [
    "A[:,1] "
   ]
  },
  {
   "cell_type": "code",
   "execution_count": 30,
   "metadata": {
    "ExecuteTime": {
     "end_time": "2021-02-06T21:06:27.384285Z",
     "start_time": "2021-02-06T21:06:27.376254Z"
    }
   },
   "outputs": [
    {
     "data": {
      "text/plain": [
       "(4,)"
      ]
     },
     "execution_count": 30,
     "metadata": {},
     "output_type": "execute_result"
    }
   ],
   "source": [
    "A[:,1].shape "
   ]
  },
  {
   "cell_type": "markdown",
   "metadata": {},
   "source": [
    "A[:,1:2] "
   ]
  },
  {
   "cell_type": "code",
   "execution_count": 33,
   "metadata": {
    "ExecuteTime": {
     "end_time": "2021-02-06T21:07:47.157532Z",
     "start_time": "2021-02-06T21:07:47.148486Z"
    }
   },
   "outputs": [
    {
     "data": {
      "text/plain": [
       "(4, 1)"
      ]
     },
     "execution_count": 33,
     "metadata": {},
     "output_type": "execute_result"
    }
   ],
   "source": [
    "A[:,1:2].shape "
   ]
  },
  {
   "cell_type": "markdown",
   "metadata": {},
   "source": [
    "Write a procedure that takes a list of numbers and returns a 2D numpy array representing a row vector containing those numbers."
   ]
  },
  {
   "cell_type": "code",
   "execution_count": 35,
   "metadata": {
    "ExecuteTime": {
     "end_time": "2021-02-06T21:09:43.886722Z",
     "start_time": "2021-02-06T21:09:43.882576Z"
    }
   },
   "outputs": [],
   "source": [
    "def rv(value_list):\n",
    "    return np.array([value_list])"
   ]
  },
  {
   "cell_type": "markdown",
   "metadata": {},
   "source": [
    "Write a procedure that takes a list of numbers and returns a 2D numpy array representing a column vector containing those numbers. You can use the rv procedure."
   ]
  },
  {
   "cell_type": "code",
   "execution_count": 36,
   "metadata": {
    "ExecuteTime": {
     "end_time": "2021-02-06T21:10:44.245005Z",
     "start_time": "2021-02-06T21:10:44.239261Z"
    }
   },
   "outputs": [],
   "source": [
    "def cv(value_list):\n",
    "    return np.array([value_list]).T"
   ]
  },
  {
   "cell_type": "markdown",
   "metadata": {},
   "source": [
    "Write a procedure that takes a column vector and returns the vector's Euclidean length (or equivalently, its magnitude) as a scalar. You may not use np.linalg.norm, and you may not use a loop."
   ]
  },
  {
   "cell_type": "code",
   "execution_count": 55,
   "metadata": {
    "ExecuteTime": {
     "end_time": "2021-02-06T21:30:46.340385Z",
     "start_time": "2021-02-06T21:30:46.335740Z"
    }
   },
   "outputs": [],
   "source": [
    "def length(col_v):\n",
    "    return np.sqrt(sum(np.power(*col_v.T, 2)))"
   ]
  },
  {
   "cell_type": "markdown",
   "metadata": {},
   "source": [
    "Write a procedure that takes a column vector and returns a unit vector in the same direction. You may not use a for loop. Use your length procedure from above (you do not need to define it again)."
   ]
  },
  {
   "cell_type": "code",
   "execution_count": 56,
   "metadata": {
    "ExecuteTime": {
     "end_time": "2021-02-06T21:32:43.877631Z",
     "start_time": "2021-02-06T21:32:43.873366Z"
    }
   },
   "outputs": [],
   "source": [
    "def normalize(col_v):\n",
    "    return col_v / length(col_v)"
   ]
  },
  {
   "cell_type": "markdown",
   "metadata": {},
   "source": [
    "Write a procedure that takes a 2D array and returns the final column as a two dimensional array. You may not use a for loop."
   ]
  },
  {
   "cell_type": "code",
   "execution_count": 69,
   "metadata": {
    "ExecuteTime": {
     "end_time": "2021-02-06T21:46:04.260626Z",
     "start_time": "2021-02-06T21:46:04.256065Z"
    }
   },
   "outputs": [],
   "source": [
    "def index_final_col(A):\n",
    "    return A.T[-1].reshape(-1, 1)"
   ]
  },
  {
   "cell_type": "markdown",
   "metadata": {},
   "source": [
    "Compute the sum of each person's height and weight as a column vector by multiplying data by another numpy array. "
   ]
  },
  {
   "cell_type": "code",
   "execution_count": 86,
   "metadata": {
    "ExecuteTime": {
     "end_time": "2021-02-06T23:20:17.781629Z",
     "start_time": "2021-02-06T23:20:17.771431Z"
    }
   },
   "outputs": [
    {
     "data": {
      "text/plain": [
       "array([[155.8],\n",
       "       [135.5],\n",
       "       [125.3]])"
      ]
     },
     "execution_count": 86,
     "metadata": {},
     "output_type": "execute_result"
    }
   ],
   "source": [
    "data = np.array([[150, 5.8], [130, 5.5], [120, 5.3]])\n",
    "n = np.array([1, 1])\n",
    "np.dot(data, np.array([1, 1])).reshape(-1,1)"
   ]
  }
 ],
 "metadata": {
  "kernelspec": {
   "display_name": "Python 3",
   "language": "python",
   "name": "python3"
  },
  "language_info": {
   "codemirror_mode": {
    "name": "ipython",
    "version": 3
   },
   "file_extension": ".py",
   "mimetype": "text/x-python",
   "name": "python",
   "nbconvert_exporter": "python",
   "pygments_lexer": "ipython3",
   "version": "3.9.1"
  }
 },
 "nbformat": 4,
 "nbformat_minor": 4
}
