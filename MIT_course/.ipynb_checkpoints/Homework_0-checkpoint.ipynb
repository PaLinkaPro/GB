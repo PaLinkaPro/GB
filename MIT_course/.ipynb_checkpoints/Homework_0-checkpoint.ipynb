{
 "cells": [
  {
   "cell_type": "code",
   "execution_count": 4,
   "metadata": {
    "ExecuteTime": {
     "end_time": "2021-02-16T16:52:32.740386Z",
     "start_time": "2021-02-16T16:52:29.502497Z"
    }
   },
   "outputs": [],
   "source": [
    "import numpy as np"
   ]
  },
  {
   "cell_type": "markdown",
   "metadata": {},
   "source": [
    "Write a function called randomization that takes as input a positive integer n, and returns A, a random n x 1 Numpy array."
   ]
  },
  {
   "cell_type": "code",
   "execution_count": 1,
   "metadata": {
    "ExecuteTime": {
     "end_time": "2021-02-16T16:46:31.365522Z",
     "start_time": "2021-02-16T16:46:31.346738Z"
    }
   },
   "outputs": [],
   "source": [
    "def randomization(n):\n",
    "    \"\"\"\n",
    "    Arg:\n",
    "      n - an integer\n",
    "    Returns:\n",
    "      A - a randomly-generated nx1 Numpy array.\n",
    "    \"\"\"\n",
    "    return np.random.rand(n, 1)\n",
    "    raise NotImplementedError"
   ]
  },
  {
   "cell_type": "markdown",
   "metadata": {},
   "source": [
    "Write a function called operations that takes as input two positive integers h and w, makes two random matrices A and B, of size h x w, and returns A,B, and s, the sum of A and B."
   ]
  },
  {
   "cell_type": "code",
   "execution_count": 8,
   "metadata": {
    "ExecuteTime": {
     "end_time": "2021-02-16T16:54:01.560529Z",
     "start_time": "2021-02-16T16:54:01.554612Z"
    }
   },
   "outputs": [],
   "source": [
    "def operations(h, w):\n",
    "    \"\"\"\n",
    "    Takes two inputs, h and w, and makes two Numpy arrays A and B of size\n",
    "    h x w, and returns A, B, and s, the sum of A and B.\n",
    "\n",
    "    Arg:\n",
    "      h - an integer describing the height of A and B\n",
    "      w - an integer describing the width of A and B\n",
    "    Returns (in this order):\n",
    "      A - a randomly-generated h x w Numpy array.\n",
    "      B - a randomly-generated h x w Numpy array.\n",
    "      s - the sum of A and B.\n",
    "    \"\"\"\n",
    "    A = np.random.rand(h, w)\n",
    "    B = np.random.rand(h, w)\n",
    "    s = A + B\n",
    "    return A, B, s\n",
    "    raise NotImplementedError\n"
   ]
  },
  {
   "cell_type": "markdown",
   "metadata": {},
   "source": [
    "Write a function called norm that takes as input two Numpy column arrays A and B, adds them, and returns s, the L2 norm of their sum."
   ]
  },
  {
   "cell_type": "code",
   "execution_count": 9,
   "metadata": {
    "ExecuteTime": {
     "end_time": "2021-02-16T17:01:11.018415Z",
     "start_time": "2021-02-16T17:01:11.009834Z"
    }
   },
   "outputs": [],
   "source": [
    "def norm(A, B):\n",
    "    \"\"\"\n",
    "    Takes two Numpy column arrays, A and B, and returns the L2 norm of their\n",
    "    sum.\n",
    "\n",
    "    Arg:\n",
    "      A - a Numpy array\n",
    "      B - a Numpy array\n",
    "    Returns:\n",
    "      s - the L2 norm of A+B.\n",
    "    \"\"\"\n",
    "    return np.linalg.norm(A + B)\n",
    "    raise NotImplementedError"
   ]
  },
  {
   "cell_type": "markdown",
   "metadata": {},
   "source": [
    "Here, we will write a function neural_network, which will apply a neural network operation with 2 inputs and 1 output and a given weight matrix.\n",
    "Your function should take two arguments: inputs and weights, two NumPy arrays of shape  (2,1)  and should return a NumPy array of shape  (1,1) , the output of the neural network. Do not forget the  tanh  activation."
   ]
  },
  {
   "cell_type": "code",
   "execution_count": 10,
   "metadata": {
    "ExecuteTime": {
     "end_time": "2021-02-16T17:16:12.082375Z",
     "start_time": "2021-02-16T17:16:12.076513Z"
    }
   },
   "outputs": [],
   "source": [
    "def neural_network(inputs, weights):\n",
    "    \"\"\"\n",
    "     Takes an input vector and runs it through a 1-layer neural network\n",
    "     with a given weight matrix and returns the output.\n",
    "\n",
    "     Arg:\n",
    "       inputs - 2 x 1 NumPy array\n",
    "       weights - 2 x 1 NumPy array\n",
    "     Returns (in this order):\n",
    "       out - a 1 x 1 NumPy array, representing the output of the neural network\n",
    "    \"\"\"\n",
    "    return np.tanh(np.dot(weights.T, inputs))\n",
    "    raise NotImplementedError"
   ]
  },
  {
   "cell_type": "markdown",
   "metadata": {},
   "source": [
    "Let's start with writing a scalar function scalar_function, which will apply the following operation with input x and y.\n",
    "𝑓(𝑥,𝑦)={𝑥⋅𝑦, if 𝑥≤𝑦𝑥/𝑦, else. \n",
    "Note that x and y are scalars."
   ]
  },
  {
   "cell_type": "code",
   "execution_count": 11,
   "metadata": {
    "ExecuteTime": {
     "end_time": "2021-02-16T17:20:59.603179Z",
     "start_time": "2021-02-16T17:20:59.597751Z"
    }
   },
   "outputs": [],
   "source": [
    "def scalar_function(x, y):\n",
    "    \"\"\"\n",
    "    Returns the f(x,y) defined in the problem statement.\n",
    "    \"\"\"\n",
    "    if x < y or x == y:\n",
    "        return x * y\n",
    "    else:\n",
    "        return x / y\n",
    "    raise NotImplementedError\n",
    "\n"
   ]
  },
  {
   "cell_type": "markdown",
   "metadata": {},
   "source": [
    "#### Vector function\n",
    "scalar_function can only handle scalar input, we could use the function np.vectorize() turn it into a vectorized function. Note that the input argument of np.vectorize() should be a scalar function, and the output of np.vectorize() is a new function that can handle vector input.\n",
    "\n",
    "Please write a vector function vector_function, which will apply the operation  𝑓(𝑥,𝑦)  defined above element-wisely with input vectors with same dimension x and y."
   ]
  },
  {
   "cell_type": "code",
   "execution_count": null,
   "metadata": {},
   "outputs": [],
   "source": [
    "def vector_function(x, y):\n",
    "    \"\"\"\n",
    "    Make sure vector_function can deal with vector input x,y \n",
    "    \"\"\"\n",
    "    func = np.vectorize(scalar_function)\n",
    "    return func(x, y)\n",
    "    raise NotImplementedError\n",
    "\n",
    "# ind = (a <= b)\n",
    "# return x*(ind) * y + x*(~ind) / y    "
   ]
  },
  {
   "cell_type": "code",
   "execution_count": 40,
   "metadata": {
    "ExecuteTime": {
     "end_time": "2021-02-16T17:58:01.240302Z",
     "start_time": "2021-02-16T17:58:01.231526Z"
    }
   },
   "outputs": [],
   "source": [
    "x = np.array([1, 2, 3])\n",
    "y = np.array([4, 5, 6])\n",
    "\n",
    "def scalar_function(x, y):\n",
    "    \n",
    "    if x < y or x == y:\n",
    "        return x * y\n",
    "    else:\n",
    "        return x / y\n",
    "    \n",
    "def vector_function(x, y):\n",
    "    \n",
    "    func = np.vectorize(scalar_function)\n",
    "    return func(x, y)\n",
    "\n",
    "def vector_function_1(a, b):\n",
    "    \n",
    "    ind = (x <= y)\n",
    "    return x*(ind) * y + x*(~ind) / y   \n",
    "\n",
    "def vector_function_2(a, b):\n",
    "    \n",
    "    return np.where(x <= y, x * y, x / y)\n"
   ]
  },
  {
   "cell_type": "markdown",
   "metadata": {},
   "source": [
    "Debugging the initial code:\n",
    "    \n",
    "    `def get_sum_metrics(predictions, metrics=[]): \n",
    "\n",
    "        for i in range(3): \n",
    "            metrics.append(lambda x: x + i)\n",
    "\n",
    "        sum_metrics = 0\n",
    "        for metric in metrics:\n",
    "            sum_metrics += metric(predictions)\n",
    "\n",
    "        return sum_metrics`\n",
    "        \n",
    "The function get_sum_metrics takes two arguments: a prediction and a list of metrics to apply to the prediction (say, for instance, the accuracy or the precision). Note that each metric is a function, not a number. The function should compute each of the metrics for the prediction and sum them. It should also add to this sum three default metrics, in this case, adding 0, 1 or 2 to the prediction."
   ]
  },
  {
   "cell_type": "code",
   "execution_count": 55,
   "metadata": {
    "ExecuteTime": {
     "end_time": "2021-02-16T18:52:18.999367Z",
     "start_time": "2021-02-16T18:52:18.993363Z"
    }
   },
   "outputs": [],
   "source": [
    "def get_sum_metrics(predictions, metrics=None):\n",
    "    \n",
    "    if metrics is None:\n",
    "        metrics = []\n",
    "    \n",
    "    for i in range(3):\n",
    "        def func(x, i=i): return x + i\n",
    "        metrics.append(func)\n",
    "\n",
    "    sum_metrics = 0\n",
    "    for metric in metrics:\n",
    "        sum_metrics += metric(predictions) \n",
    "        print(metric(predictions))\n",
    "        print(sum_metrics)\n",
    "\n",
    "    return sum_metrics"
   ]
  },
  {
   "cell_type": "code",
   "execution_count": null,
   "metadata": {},
   "outputs": [],
   "source": []
  }
 ],
 "metadata": {
  "kernelspec": {
   "display_name": "Python 3",
   "language": "python",
   "name": "python3"
  },
  "language_info": {
   "codemirror_mode": {
    "name": "ipython",
    "version": 3
   },
   "file_extension": ".py",
   "mimetype": "text/x-python",
   "name": "python",
   "nbconvert_exporter": "python",
   "pygments_lexer": "ipython3",
   "version": "3.9.1"
  }
 },
 "nbformat": 4,
 "nbformat_minor": 4
}
