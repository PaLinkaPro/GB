{
 "cells": [
  {
   "cell_type": "code",
   "execution_count": 1,
   "metadata": {
    "ExecuteTime": {
     "end_time": "2021-02-09T16:40:34.196790Z",
     "start_time": "2021-02-09T16:40:33.876424Z"
    }
   },
   "outputs": [],
   "source": [
    "import numpy as np"
   ]
  },
  {
   "cell_type": "code",
   "execution_count": 2,
   "metadata": {
    "ExecuteTime": {
     "end_time": "2021-02-09T16:42:16.571101Z",
     "start_time": "2021-02-09T16:42:16.513394Z"
    }
   },
   "outputs": [
    {
     "data": {
      "text/plain": [
       "array([[-6. , -6. , 12. ],\n",
       "       [ 3. , -3.5,  7.5],\n",
       "       [ 3. ,  4. , -8. ]])"
      ]
     },
     "execution_count": 2,
     "metadata": {},
     "output_type": "execute_result"
    }
   ],
   "source": [
    "A = np.array([[-2,  4, 0], [2, -5, 3], [2,  0, 6]])\n",
    "B = np.array([[-2, -4, 6], [1,  0, 3], [1,  2 , -5]])\n",
    "E = np.array([[1, 0, 0], [0, 1, 0], [0, 0, 1]])\n",
    "0.5 * A + 2 * B - E"
   ]
  },
  {
   "cell_type": "code",
   "execution_count": null,
   "metadata": {},
   "outputs": [],
   "source": []
  }
 ],
 "metadata": {
  "kernelspec": {
   "display_name": "Python 3",
   "language": "python",
   "name": "python3"
  },
  "language_info": {
   "codemirror_mode": {
    "name": "ipython",
    "version": 3
   },
   "file_extension": ".py",
   "mimetype": "text/x-python",
   "name": "python",
   "nbconvert_exporter": "python",
   "pygments_lexer": "ipython3",
   "version": "3.9.1"
  }
 },
 "nbformat": 4,
 "nbformat_minor": 4
}
