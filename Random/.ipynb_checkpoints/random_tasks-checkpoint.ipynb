{
 "cells": [
  {
   "cell_type": "code",
   "execution_count": 1,
   "metadata": {
    "ExecuteTime": {
     "end_time": "2021-05-02T10:56:10.649431Z",
     "start_time": "2021-05-02T10:56:09.984482Z"
    }
   },
   "outputs": [],
   "source": [
    "from math import sin, exp\n",
    "from scipy.optimize import minimize\n",
    "from scipy.optimize import differential_evolution\n",
    "\n",
    "def func(x):\n",
    "    return sin(x / 5) * exp(x / 10) + 5 * exp(-x / 2)"
   ]
  },
  {
   "cell_type": "code",
   "execution_count": 2,
   "metadata": {
    "ExecuteTime": {
     "end_time": "2021-05-02T10:56:10.675507Z",
     "start_time": "2021-05-02T10:56:10.654468Z"
    }
   },
   "outputs": [
    {
     "data": {
      "text/plain": [
       "      fun: 1.745268290344928\n",
       " hess_inv: array([[5.98750711]])\n",
       "      jac: array([-2.05636024e-06])\n",
       "  message: 'Optimization terminated successfully.'\n",
       "     nfev: 14\n",
       "      nit: 6\n",
       "     njev: 7\n",
       "   status: 0\n",
       "  success: True\n",
       "        x: array([4.13627619])"
      ]
     },
     "execution_count": 2,
     "metadata": {},
     "output_type": "execute_result"
    }
   ],
   "source": [
    "minimize(func, 2, method='BFGS')"
   ]
  },
  {
   "cell_type": "code",
   "execution_count": 3,
   "metadata": {
    "ExecuteTime": {
     "end_time": "2021-05-02T10:56:10.706339Z",
     "start_time": "2021-05-02T10:56:10.681616Z"
    }
   },
   "outputs": [
    {
     "data": {
      "text/plain": [
       "      fun: -11.898894665981322\n",
       " hess_inv: array([[1.67940841]])\n",
       "      jac: array([0.])\n",
       "  message: 'Optimization terminated successfully.'\n",
       "     nfev: 14\n",
       "      nit: 6\n",
       "     njev: 7\n",
       "   status: 0\n",
       "  success: True\n",
       "        x: array([25.880193])"
      ]
     },
     "execution_count": 3,
     "metadata": {},
     "output_type": "execute_result"
    }
   ],
   "source": [
    "minimize(func, 30, method='BFGS')"
   ]
  },
  {
   "cell_type": "code",
   "execution_count": 4,
   "metadata": {
    "ExecuteTime": {
     "end_time": "2021-05-02T10:56:10.770166Z",
     "start_time": "2021-05-02T10:56:10.718671Z"
    }
   },
   "outputs": [
    {
     "data": {
      "text/plain": [
       "     fun: -11.898894665932191\n",
       "     jac: array([7.63833378e-06])\n",
       " message: 'Optimization terminated successfully.'\n",
       "    nfev: 96\n",
       "     nit: 5\n",
       " success: True\n",
       "       x: array([25.88020588])"
      ]
     },
     "execution_count": 4,
     "metadata": {},
     "output_type": "execute_result"
    }
   ],
   "source": [
    "differential_evolution(func, [(1, 30)])"
   ]
  },
  {
   "cell_type": "code",
   "execution_count": 5,
   "metadata": {
    "ExecuteTime": {
     "end_time": "2021-05-02T10:56:10.783929Z",
     "start_time": "2021-05-02T10:56:10.774818Z"
    }
   },
   "outputs": [],
   "source": [
    "def int_func(x):\n",
    "    return int(func(x))"
   ]
  },
  {
   "cell_type": "code",
   "execution_count": 6,
   "metadata": {
    "ExecuteTime": {
     "end_time": "2021-05-02T10:56:10.809273Z",
     "start_time": "2021-05-02T10:56:10.789002Z"
    }
   },
   "outputs": [
    {
     "data": {
      "text/plain": [
       "      fun: -5\n",
       " hess_inv: array([[1]])\n",
       "      jac: array([0.])\n",
       "  message: 'Optimization terminated successfully.'\n",
       "     nfev: 2\n",
       "      nit: 0\n",
       "     njev: 1\n",
       "   status: 0\n",
       "  success: True\n",
       "        x: array([30.])"
      ]
     },
     "execution_count": 6,
     "metadata": {},
     "output_type": "execute_result"
    }
   ],
   "source": [
    "minimize(int_func, 30, method='BFGS')"
   ]
  },
  {
   "cell_type": "code",
   "execution_count": 7,
   "metadata": {
    "ExecuteTime": {
     "end_time": "2021-05-02T10:56:10.892569Z",
     "start_time": "2021-05-02T10:56:10.819885Z"
    }
   },
   "outputs": [
    {
     "data": {
      "text/plain": [
       "     fun: -11.0\n",
       " message: 'Optimization terminated successfully.'\n",
       "    nfev: 122\n",
       "     nit: 7\n",
       " success: True\n",
       "       x: array([27.33157356])"
      ]
     },
     "execution_count": 7,
     "metadata": {},
     "output_type": "execute_result"
    }
   ],
   "source": [
    "differential_evolution(int_func, [(1, 30)])"
   ]
  },
  {
   "cell_type": "code",
   "execution_count": 8,
   "metadata": {
    "ExecuteTime": {
     "end_time": "2021-05-02T10:56:10.912132Z",
     "start_time": "2021-05-02T10:56:10.902010Z"
    }
   },
   "outputs": [],
   "source": [
    "with open ('answer.txt', 'w') as f:\n",
    "    f.write('-5 -11.0')"
   ]
  },
  {
   "cell_type": "markdown",
   "metadata": {},
   "source": [
    "Technical Assessment"
   ]
  },
  {
   "cell_type": "markdown",
   "metadata": {},
   "source": [
    "Let f(w) = 2w^3 - 5. What is f(4)?"
   ]
  },
  {
   "cell_type": "code",
   "execution_count": 9,
   "metadata": {
    "ExecuteTime": {
     "end_time": "2021-05-02T10:56:10.951131Z",
     "start_time": "2021-05-02T10:56:10.935846Z"
    }
   },
   "outputs": [],
   "source": [
    "def f(x):\n",
    "    return 2 * x ** 3 - 5\n",
    "#func1(4)"
   ]
  },
  {
   "cell_type": "markdown",
   "metadata": {},
   "source": [
    "Let f(w) = 2w^3 - 5. Let z = 2. What is f(z)?"
   ]
  },
  {
   "cell_type": "code",
   "execution_count": 10,
   "metadata": {
    "ExecuteTime": {
     "end_time": "2021-05-02T10:56:10.970210Z",
     "start_time": "2021-05-02T10:56:10.955999Z"
    }
   },
   "outputs": [
    {
     "data": {
      "text/plain": [
       "11"
      ]
     },
     "execution_count": 10,
     "metadata": {},
     "output_type": "execute_result"
    }
   ],
   "source": [
    "z = 2\n",
    "f(z)"
   ]
  },
  {
   "cell_type": "markdown",
   "metadata": {},
   "source": [
    "Let g(x) = cos(x/2) - 3x. Let f(x) = 2x + 5. What is g(f(x))?"
   ]
  },
  {
   "cell_type": "code",
   "execution_count": 11,
   "metadata": {
    "ExecuteTime": {
     "end_time": "2021-05-02T10:56:11.009011Z",
     "start_time": "2021-05-02T10:56:10.989093Z"
    }
   },
   "outputs": [],
   "source": [
    "import numpy as np"
   ]
  },
  {
   "cell_type": "code",
   "execution_count": 12,
   "metadata": {
    "ExecuteTime": {
     "end_time": "2021-05-02T10:56:11.033870Z",
     "start_time": "2021-05-02T10:56:11.016817Z"
    }
   },
   "outputs": [],
   "source": [
    "def g(x):\n",
    "    return np.cos(x/2) - 3 * x\n",
    "\n",
    "def f(x):\n",
    "    return 2 * x + 5"
   ]
  },
  {
   "cell_type": "code",
   "execution_count": 13,
   "metadata": {
    "ExecuteTime": {
     "end_time": "2021-05-02T10:56:11.041403Z",
     "start_time": "2021-05-02T10:56:11.037561Z"
    }
   },
   "outputs": [],
   "source": [
    "#cos(2x+5/2) - 3(2x +5) = cos(x+5/2) - 6x - 15"
   ]
  },
  {
   "cell_type": "code",
   "execution_count": 14,
   "metadata": {
    "ExecuteTime": {
     "end_time": "2021-05-02T10:56:11.052158Z",
     "start_time": "2021-05-02T10:56:11.048136Z"
    }
   },
   "outputs": [],
   "source": [
    "#Let f(x) = tan(x) - 2/x. Let g(x) = x^2 + 8. What is f(x)*g(y)?\n",
    "\n",
    "#(tan(x) - 2/x) * (y^2 + 8) = tan(x)*y^2 + 8tan(x) - 2y^2/x - 16/x = tan(x)*(y^2 + 8) - 2(y^2 - 8)/x"
   ]
  },
  {
   "cell_type": "markdown",
   "metadata": {
    "ExecuteTime": {
     "end_time": "2021-05-02T10:54:05.372359Z",
     "start_time": "2021-05-02T10:53:53.528Z"
    }
   },
   "source": [
    "What is the derivative of x^2 - x + 3 at the point x = 5?"
   ]
  },
  {
   "cell_type": "markdown",
   "metadata": {
    "ExecuteTime": {
     "end_time": "2021-05-02T10:55:16.990065Z",
     "start_time": "2021-05-02T10:55:16.972242Z"
    }
   },
   "source": [
    "What is the value of x where x^2 - x + 3 is a minimum?\n",
    "def f(x):\n",
    "    return x^2 - x + 3\n",
    "np.gradient(f(x))"
   ]
  },
  {
   "cell_type": "code",
   "execution_count": 15,
   "metadata": {
    "ExecuteTime": {
     "end_time": "2021-05-02T10:56:11.068603Z",
     "start_time": "2021-05-02T10:56:11.058234Z"
    }
   },
   "outputs": [
    {
     "data": {
      "text/plain": [
       "[1, 3, 5, 7, 9]"
      ]
     },
     "execution_count": 15,
     "metadata": {},
     "output_type": "execute_result"
    }
   ],
   "source": [
    "[n for n in range(10) if n % 2]"
   ]
  },
  {
   "cell_type": "code",
   "execution_count": 16,
   "metadata": {
    "ExecuteTime": {
     "end_time": "2021-05-02T10:56:11.082361Z",
     "start_time": "2021-05-02T10:56:11.072285Z"
    }
   },
   "outputs": [
    {
     "name": "stdout",
     "output_type": "stream",
     "text": [
      "1970-01-January\n"
     ]
    }
   ],
   "source": [
    "from datetime import datetime\n",
    "print(datetime(1970, 1, 1).strftime('%Y-%d-%B'))"
   ]
  }
 ],
 "metadata": {
  "kernelspec": {
   "display_name": "Python 3",
   "language": "python",
   "name": "python3"
  },
  "language_info": {
   "codemirror_mode": {
    "name": "ipython",
    "version": 3
   },
   "file_extension": ".py",
   "mimetype": "text/x-python",
   "name": "python",
   "nbconvert_exporter": "python",
   "pygments_lexer": "ipython3",
   "version": "3.9.1"
  },
  "toc": {
   "base_numbering": 1,
   "nav_menu": {},
   "number_sections": true,
   "sideBar": true,
   "skip_h1_title": false,
   "title_cell": "Table of Contents",
   "title_sidebar": "Contents",
   "toc_cell": false,
   "toc_position": {},
   "toc_section_display": true,
   "toc_window_display": false
  }
 },
 "nbformat": 4,
 "nbformat_minor": 4
}
