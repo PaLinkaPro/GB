{
 "cells": [
  {
   "cell_type": "code",
   "execution_count": 1,
   "metadata": {
    "ExecuteTime": {
     "end_time": "2021-02-14T20:37:08.238594Z",
     "start_time": "2021-02-14T20:37:05.589970Z"
    }
   },
   "outputs": [],
   "source": [
    "from scipy import stats\n",
    "import matplotlib.pyplot as plt\n",
    "%matplotlib inline\n",
    "import pandas as pd\n",
    "import numpy as np"
   ]
  },
  {
   "cell_type": "markdown",
   "metadata": {},
   "source": [
    "### A/B тестирование"
   ]
  },
  {
   "cell_type": "markdown",
   "metadata": {},
   "source": [
    "В этом задании вы познакомитесь с A/B тестированием и примените полученные знания по статистике. \n",
    "\n",
    "Рассмотрим A/B тестирование на примере сайта. У сайта есть два дизайна - старый и новый, и мы хотим оценить, насколько новый дизайн лучше старого. Для этого пользователи сайта случайным образом разделяются на контрольную и тестовую группы. Контрольной группе показывается старая версия сайта, тестовой группе - измененная версия. Оценить изменение можно несколькими способами, самый простой - оценить конверсию. Конверсия - доля пользователей, совершивших заранее определенное действие(например подписка, нажатие на кнопку, заполнение формы)."
   ]
  },
  {
   "cell_type": "markdown",
   "metadata": {},
   "source": [
    "### Описание данных"
   ]
  },
  {
   "cell_type": "markdown",
   "metadata": {},
   "source": [
    "Для начала нужно загрузить данные из файла `a_b_testing.csv` при помощи функции `read_csv` из библиотеки `pandas`. В данном случае 1 - была совершена подписка на сайт, 0 - подписки не было. A - контрольная группа, B - тестовая группа."
   ]
  },
  {
   "cell_type": "markdown",
   "metadata": {},
   "source": [
    "Далее нужно выполнить следующие пункты, описание выходного формата содержится внутри каждого задания."
   ]
  },
  {
   "cell_type": "markdown",
   "metadata": {},
   "source": [
    "### Доверительный интервал"
   ]
  },
  {
   "cell_type": "markdown",
   "metadata": {},
   "source": [
    "В видео про доверительный интервал мы рассмотрели, как можно аппроксимировать биномиальное распределение нормальным. В некоторых случаях параметры нормального распределения можно вывести математически и ниже мы рассмотрим как."
   ]
  },
  {
   "cell_type": "markdown",
   "metadata": {},
   "source": [
    "Представим количество пользователей как случайную величину из биномиального распределения с параметрами  `n`  - количество пользователей и `p` - вероятность конверсии или как сумму  `n`  независимых бросаний монетки. Определим следующую случайную величину:\n",
    "\n",
    "$$Y = X_{1} + X_{2} + \\dots + X_{n} , \\, $$\n",
    "где случайная величина $X_{i}$ имеет распределение Бернулли. Для случайной величины $Y$ математическое ожидание и дисперсия равны:\n",
    "\n",
    "$$\\mu = np, \\, \\sigma^{2} = np\\cdot(1 - p)$$\n",
    "\n",
    "Далее применяя центральную предельную теорему(случайные величины $X_{i}$ распределены независимо и размер выборки большой), получаем что \n",
    "\n",
    "$$Y \\sim \\mathcal{N}(np \\, np\\cdot(1 - p))\\$$\n",
    "\n",
    "Мы перешли от биномиального распределения к нормальному. Следующий шаг - стандартизация нормального распределения:\n",
    "\n",
    "$$Z = \\frac{Y - np}{\\sqrt{np\\cdot(1-p)}} \\sim \\mathcal{N}(0, \\, 1) $$ \n",
    "\n",
    "Преобразуем выражение выше:\n",
    "\n",
    "$$Z = \\frac{Y - np}{\\sqrt{np\\cdot(1-p)}} = \\frac{\\frac{Y}{n} - p}{\\sqrt{\\frac{p(1-p)}{n}}} \\sim \\mathcal{N}(0, \\, 1) $$"
   ]
  },
  {
   "cell_type": "markdown",
   "metadata": {},
   "source": [
    "Так как среднее значение по выборке - это наблюдаемый процент конверсии, то доверительный интервал будет выглядеть следующим образом:"
   ]
  },
  {
   "cell_type": "markdown",
   "metadata": {},
   "source": [
    "$${P}\\left(p - z_{1-\\frac{\\alpha}{2}} \\sqrt{\\frac{p(1-p)}{n}} \\le \\mu \\le p + z_{1-\\frac{\\alpha}{2}}\\sqrt{\\frac{p(1-p)}{n}}\\right) = 1-\\alpha$$"
   ]
  },
  {
   "cell_type": "markdown",
   "metadata": {},
   "source": [
    "### ЗАДАНИЕ"
   ]
  },
  {
   "cell_type": "markdown",
   "metadata": {},
   "source": [
    "Найдите доверительный интервал для средней конверсии пользователей из контрольной выборки с уровнем значимости 95%. Округлите левую и правую границу с точностью до двух знаков после запятой. Запишите значения левой и правой границ через запятую, сохраняя приведенный порядок, в переменную `answer1`, которая будет являтся строкой."
   ]
  },
  {
   "cell_type": "markdown",
   "metadata": {},
   "source": [
    "#### РЕШЕНИЕ"
   ]
  },
  {
   "cell_type": "code",
   "execution_count": 2,
   "metadata": {
    "ExecuteTime": {
     "end_time": "2021-02-14T20:37:08.264262Z",
     "start_time": "2021-02-14T20:37:08.244401Z"
    }
   },
   "outputs": [],
   "source": [
    "data = pd.read_csv('a_b_testing.csv')\n",
    "b = data[data['group'] =='A']['converted']"
   ]
  },
  {
   "cell_type": "code",
   "execution_count": 3,
   "metadata": {
    "ExecuteTime": {
     "end_time": "2021-02-14T20:37:08.546030Z",
     "start_time": "2021-02-14T20:37:08.268462Z"
    }
   },
   "outputs": [
    {
     "data": {
      "text/plain": [
       "(0.3904889829710936, 0.43327144903676107)"
      ]
     },
     "execution_count": 3,
     "metadata": {},
     "output_type": "execute_result"
    }
   ],
   "source": [
    "#!pip install statsmodels\n",
    "import statsmodels.stats.api as sms \n",
    "sms.DescrStatsW(b).tconfint_mean() "
   ]
  },
  {
   "cell_type": "code",
   "execution_count": 4,
   "metadata": {
    "ExecuteTime": {
     "end_time": "2021-02-14T20:37:08.563373Z",
     "start_time": "2021-02-14T20:37:08.550836Z"
    }
   },
   "outputs": [
    {
     "data": {
      "text/plain": [
       "(0.4118802160039273, 0.3904889829710935, 0.4332714490367611)"
      ]
     },
     "execution_count": 4,
     "metadata": {},
     "output_type": "execute_result"
    }
   ],
   "source": [
    "import numpy as np\n",
    "import scipy.stats\n",
    "\n",
    "\n",
    "def mean_confidence_interval(data, confidence=0.95):\n",
    "    a = 1.0 * np.array(data)\n",
    "    n = len(a)\n",
    "    m, se = np.mean(a), scipy.stats.sem(a)\n",
    "    h = se * scipy.stats.t.ppf((1 + confidence) / 2., n-1)\n",
    "    return m, m-h, m+h\n",
    "mean_confidence_interval(b)"
   ]
  },
  {
   "cell_type": "markdown",
   "metadata": {},
   "source": [
    "### Задача A/B тестирования"
   ]
  },
  {
   "cell_type": "markdown",
   "metadata": {},
   "source": [
    "Рассмотрим независимые выборки $X$ и $Y$ для которых есть $\\mu_x$ и $\\mu_y$, определяющие среднее значение распределения.\n",
    "\n",
    "Рассматривается следующая гипотеза:\n",
    "$$\n",
    "H_0: \\mu_x = \\mu_y\n",
    "$$\n",
    "против альтернативы:\n",
    "\n",
    "$$\n",
    "H_1: \\mu_x \\ne \\mu_y.\n",
    "$$"
   ]
  },
  {
   "cell_type": "markdown",
   "metadata": {},
   "source": [
    "Если гипотеза $H_0$ отвергается, то показатель действительно поменялся."
   ]
  },
  {
   "cell_type": "markdown",
   "metadata": {},
   "source": [
    "Также можно тест можно записать и другим способом:\n",
    "$$\n",
    "H_0: \\mu_x \\le \\mu_y\n",
    "$$\n",
    "\n",
    "против альтернативы:\n",
    "\n",
    "$$\n",
    "H_1: \\mu_x > \\mu_y\n",
    "$$"
   ]
  },
  {
   "cell_type": "markdown",
   "metadata": {},
   "source": [
    "### Задание по статистике Стьюдента "
   ]
  },
  {
   "cell_type": "markdown",
   "metadata": {},
   "source": [
    "Найдите значение статистики Стьюдента в предположении независимости выборок по формуле:"
   ]
  },
  {
   "cell_type": "markdown",
   "metadata": {},
   "source": [
    "$$\n",
    "T(X, Y) = \\frac{\\bar{X} - \\bar{Y}}{\\sqrt{\\frac{s_x^2}{n} + \\frac{s_y^2}{m}}}\n",
    "$$\n",
    "\n",
    "где `n` - размер контрольной выборки, `m`  - размер тестовой выборки."
   ]
  },
  {
   "cell_type": "markdown",
   "metadata": {},
   "source": [
    "Ответ запишите в переменную `answer2` с точностью до двух знаков после запятой."
   ]
  },
  {
   "cell_type": "markdown",
   "metadata": {},
   "source": [
    "### РЕШЕНИЕ"
   ]
  },
  {
   "cell_type": "code",
   "execution_count": 5,
   "metadata": {
    "ExecuteTime": {
     "end_time": "2021-02-14T20:37:08.584172Z",
     "start_time": "2021-02-14T20:37:08.570356Z"
    }
   },
   "outputs": [],
   "source": [
    "ctrl = data[data['group'] == 'A']['converted'] \n",
    "test = data[data['group'] == 'B']['converted'] "
   ]
  },
  {
   "cell_type": "code",
   "execution_count": 6,
   "metadata": {
    "ExecuteTime": {
     "end_time": "2021-02-14T20:37:08.627977Z",
     "start_time": "2021-02-14T20:37:08.595466Z"
    }
   },
   "outputs": [
    {
     "data": {
      "text/plain": [
       "-1.6123875817242772"
      ]
     },
     "execution_count": 6,
     "metadata": {},
     "output_type": "execute_result"
    }
   ],
   "source": [
    "t = (np.mean(ctrl) - np.mean(test)) / np.sqrt(\n",
    "    ((np.std(ctrl, ddof = 1) ** 2) / ctrl.size) + ((np.std(test, ddof = 1) ** 2) / test.size )\n",
    ")\n",
    "t"
   ]
  },
  {
   "cell_type": "markdown",
   "metadata": {},
   "source": [
    "### Статистика Стьюдента из библиотеки Scipy"
   ]
  },
  {
   "cell_type": "markdown",
   "metadata": {},
   "source": [
    "Найдите p-value для статистики Стьюдента, используя функцию `stats.ttest_ind`."
   ]
  },
  {
   "cell_type": "markdown",
   "metadata": {},
   "source": [
    "### РЕШЕНИЕ"
   ]
  },
  {
   "cell_type": "code",
   "execution_count": 7,
   "metadata": {
    "ExecuteTime": {
     "end_time": "2021-02-14T20:37:08.659231Z",
     "start_time": "2021-02-14T20:37:08.632376Z"
    },
    "scrolled": true
   },
   "outputs": [
    {
     "data": {
      "text/plain": [
       "Ttest_indResult(statistic=-1.6123875817242772, pvalue=0.10695671235201251)"
      ]
     },
     "execution_count": 7,
     "metadata": {},
     "output_type": "execute_result"
    }
   ],
   "source": [
    "from scipy.stats import ttest_ind\n",
    "\n",
    "t = ttest_ind(ctrl, test, equal_var=False)\n",
    "t"
   ]
  },
  {
   "cell_type": "markdown",
   "metadata": {},
   "source": [
    "Дополнительная проверка: значение статистики Стьюдента, посчитанная двумя способами, должны совпадать."
   ]
  },
  {
   "cell_type": "markdown",
   "metadata": {},
   "source": [
    "Ответ запишите в переменную `answer3` с точностью до 2 знака после запятой"
   ]
  }
 ],
 "metadata": {
  "kernelspec": {
   "display_name": "Python 3",
   "language": "python",
   "name": "python3"
  },
  "language_info": {
   "codemirror_mode": {
    "name": "ipython",
    "version": 3
   },
   "file_extension": ".py",
   "mimetype": "text/x-python",
   "name": "python",
   "nbconvert_exporter": "python",
   "pygments_lexer": "ipython3",
   "version": "3.9.1"
  },
  "toc": {
   "nav_menu": {},
   "number_sections": true,
   "sideBar": true,
   "skip_h1_title": false,
   "toc_cell": false,
   "toc_position": {},
   "toc_section_display": "block",
   "toc_window_display": false
  },
  "varInspector": {
   "cols": {
    "lenName": 16,
    "lenType": 16,
    "lenVar": 40
   },
   "kernels_config": {
    "python": {
     "delete_cmd_postfix": "",
     "delete_cmd_prefix": "del ",
     "library": "var_list.py",
     "varRefreshCmd": "print(var_dic_list())"
    },
    "r": {
     "delete_cmd_postfix": ") ",
     "delete_cmd_prefix": "rm(",
     "library": "var_list.r",
     "varRefreshCmd": "cat(var_dic_list()) "
    }
   },
   "position": {
    "height": "349px",
    "left": "1068px",
    "right": "20px",
    "top": "120px",
    "width": "352px"
   },
   "types_to_exclude": [
    "module",
    "function",
    "builtin_function_or_method",
    "instance",
    "_Feature"
   ],
   "window_display": false
  }
 },
 "nbformat": 4,
 "nbformat_minor": 2
}
