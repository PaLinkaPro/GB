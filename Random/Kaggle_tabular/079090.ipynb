{
 "cells": [
  {
   "cell_type": "code",
   "execution_count": 2,
   "metadata": {
    "ExecuteTime": {
     "end_time": "2021-04-03T21:02:21.342742Z",
     "start_time": "2021-04-03T21:02:20.626891Z"
    }
   },
   "outputs": [],
   "source": [
    "import pandas as pd\n",
    "import numpy as np"
   ]
  },
  {
   "cell_type": "code",
   "execution_count": 60,
   "metadata": {
    "ExecuteTime": {
     "end_time": "2021-04-03T21:19:21.805641Z",
     "start_time": "2021-04-03T21:19:21.131399Z"
    }
   },
   "outputs": [],
   "source": [
    "from sklearn.ensemble import RandomForestClassifier\n",
    "from sklearn.model_selection import train_test_split, RandomizedSearchCV\n",
    "\n",
    "data = pd.read_csv('train.csv').set_index('PassengerId')\n",
    "test = pd.read_csv('test.csv')\n",
    "new_data = data.copy()\n",
    "\n",
    "# short feature preparation\n",
    "\n",
    "data = data.drop(columns=['Name', 'Ticket', 'Cabin', 'Embarked'])\n",
    "data['Sex'] = data['Sex'].map({'male': 0, 'female': 1})\n",
    "data['Age'] = data['Age'].fillna(data['Age'].mean().round(0))\n",
    "data['Age'] = pd.cut(data['Age'], bins=[0, 17, 25, 45, 65], labels=[3, 2, 1, 0])\n",
    "data['Fare'] = pd.cut(data['Fare'], bins=[0, 20, 70, 100, 200], labels=[0, 1, 2, 3])"
   ]
  },
  {
   "cell_type": "code",
   "execution_count": 61,
   "metadata": {
    "ExecuteTime": {
     "end_time": "2021-04-03T21:19:21.881867Z",
     "start_time": "2021-04-03T21:19:21.809842Z"
    }
   },
   "outputs": [],
   "source": [
    "test = test.drop(columns=['Name', 'Ticket', 'Cabin', 'Embarked'])\n",
    "test['Sex'] = test['Sex'].map({'male': 0, 'female': 1})\n",
    "test['Age'] = test['Age'].fillna(test['Age'].mean().round(0))\n",
    "test['Age'] = pd.cut(test['Age'], bins=[0, 17, 25, 45, 65], labels=[3, 2, 1, 0])\n",
    "test['Fare'] = pd.cut(test['Fare'], bins=[0, 20, 70, 100, 200], labels=[0, 1, 2, 3])\n",
    "new_test = test.copy().set_index('PassengerId')"
   ]
  },
  {
   "cell_type": "code",
   "execution_count": 55,
   "metadata": {
    "ExecuteTime": {
     "end_time": "2021-04-03T21:16:29.581089Z",
     "start_time": "2021-04-03T21:16:05.661345Z"
    }
   },
   "outputs": [
    {
     "name": "stdout",
     "output_type": "stream",
     "text": [
      "Fitting 5 folds for each of 100 candidates, totalling 500 fits\n"
     ]
    },
    {
     "data": {
      "text/plain": [
       "0.76355"
      ]
     },
     "execution_count": 55,
     "metadata": {},
     "output_type": "execute_result"
    }
   ],
   "source": [
    "X_train, X_test, y_train, y_test = train_test_split(data.drop(columns=['Survived'], axis=1), data['Survived'], test_size=0.2, random_state=42)\n",
    "\n",
    "# hyperparameters tuning\n",
    "\n",
    "rand_titanic = RandomizedSearchCV(DecisionTreeClassifier(random_state=42), \n",
    "                           param_distributions={'criterion': ['gini', 'entropy'], \n",
    "                                                'splitter': ['best', 'random'],\n",
    "                                                'min_samples_split': range(2, 20),\n",
    "                                                'min_samples_leaf': range(1, 20)},\n",
    "                           n_iter=100, \n",
    "                           cv=5, \n",
    "                           scoring='accuracy',\n",
    "                           n_jobs=2,\n",
    "                           verbose=1,\n",
    "                           random_state=42\n",
    "                          )\n",
    "\n",
    "rand_titanic.fit(X_train, y_train)\n",
    "rand_titanic.best_params_\n",
    "rand_titanic.score(X_test, y_test)"
   ]
  },
  {
   "cell_type": "code",
   "execution_count": 63,
   "metadata": {
    "ExecuteTime": {
     "end_time": "2021-04-03T21:19:37.218906Z",
     "start_time": "2021-04-03T21:19:36.991987Z"
    }
   },
   "outputs": [
    {
     "data": {
      "text/html": [
       "<div>\n",
       "<style scoped>\n",
       "    .dataframe tbody tr th:only-of-type {\n",
       "        vertical-align: middle;\n",
       "    }\n",
       "\n",
       "    .dataframe tbody tr th {\n",
       "        vertical-align: top;\n",
       "    }\n",
       "\n",
       "    .dataframe thead th {\n",
       "        text-align: right;\n",
       "    }\n",
       "</style>\n",
       "<table border=\"1\" class=\"dataframe\">\n",
       "  <thead>\n",
       "    <tr style=\"text-align: right;\">\n",
       "      <th></th>\n",
       "      <th>PassengerId</th>\n",
       "      <th>Survived</th>\n",
       "    </tr>\n",
       "  </thead>\n",
       "  <tbody>\n",
       "    <tr>\n",
       "      <th>0</th>\n",
       "      <td>100000</td>\n",
       "      <td>0</td>\n",
       "    </tr>\n",
       "    <tr>\n",
       "      <th>1</th>\n",
       "      <td>100001</td>\n",
       "      <td>1</td>\n",
       "    </tr>\n",
       "    <tr>\n",
       "      <th>2</th>\n",
       "      <td>100002</td>\n",
       "      <td>1</td>\n",
       "    </tr>\n",
       "    <tr>\n",
       "      <th>3</th>\n",
       "      <td>100003</td>\n",
       "      <td>0</td>\n",
       "    </tr>\n",
       "    <tr>\n",
       "      <th>4</th>\n",
       "      <td>100004</td>\n",
       "      <td>1</td>\n",
       "    </tr>\n",
       "    <tr>\n",
       "      <th>...</th>\n",
       "      <td>...</td>\n",
       "      <td>...</td>\n",
       "    </tr>\n",
       "    <tr>\n",
       "      <th>99995</th>\n",
       "      <td>199995</td>\n",
       "      <td>1</td>\n",
       "    </tr>\n",
       "    <tr>\n",
       "      <th>99996</th>\n",
       "      <td>199996</td>\n",
       "      <td>0</td>\n",
       "    </tr>\n",
       "    <tr>\n",
       "      <th>99997</th>\n",
       "      <td>199997</td>\n",
       "      <td>0</td>\n",
       "    </tr>\n",
       "    <tr>\n",
       "      <th>99998</th>\n",
       "      <td>199998</td>\n",
       "      <td>1</td>\n",
       "    </tr>\n",
       "    <tr>\n",
       "      <th>99999</th>\n",
       "      <td>199999</td>\n",
       "      <td>1</td>\n",
       "    </tr>\n",
       "  </tbody>\n",
       "</table>\n",
       "<p>100000 rows × 2 columns</p>\n",
       "</div>"
      ],
      "text/plain": [
       "       PassengerId  Survived\n",
       "0           100000         0\n",
       "1           100001         1\n",
       "2           100002         1\n",
       "3           100003         0\n",
       "4           100004         1\n",
       "...            ...       ...\n",
       "99995       199995         1\n",
       "99996       199996         0\n",
       "99997       199997         0\n",
       "99998       199998         1\n",
       "99999       199999         1\n",
       "\n",
       "[100000 rows x 2 columns]"
      ]
     },
     "execution_count": 63,
     "metadata": {},
     "output_type": "execute_result"
    }
   ],
   "source": [
    "test['Survived'] = rand_titanic.predict(new_test)\n",
    "submission = test[['PassengerId', 'Survived']]\n",
    "submission.to_csv('submission_dtc.csv', index=False)\n",
    "\n",
    "submission"
   ]
  },
  {
   "cell_type": "code",
   "execution_count": null,
   "metadata": {},
   "outputs": [],
   "source": []
  }
 ],
 "metadata": {
  "kernelspec": {
   "display_name": "Python 3",
   "language": "python",
   "name": "python3"
  },
  "language_info": {
   "codemirror_mode": {
    "name": "ipython",
    "version": 3
   },
   "file_extension": ".py",
   "mimetype": "text/x-python",
   "name": "python",
   "nbconvert_exporter": "python",
   "pygments_lexer": "ipython3",
   "version": "3.9.1"
  },
  "toc": {
   "base_numbering": 1,
   "nav_menu": {},
   "number_sections": true,
   "sideBar": true,
   "skip_h1_title": false,
   "title_cell": "Table of Contents",
   "title_sidebar": "Contents",
   "toc_cell": false,
   "toc_position": {},
   "toc_section_display": true,
   "toc_window_display": false
  }
 },
 "nbformat": 4,
 "nbformat_minor": 4
}
