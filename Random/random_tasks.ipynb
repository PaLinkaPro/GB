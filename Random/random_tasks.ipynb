{
 "cells": [
  {
   "cell_type": "code",
   "execution_count": 7,
   "metadata": {
    "ExecuteTime": {
     "end_time": "2021-02-21T15:05:36.225532Z",
     "start_time": "2021-02-21T15:05:36.219302Z"
    }
   },
   "outputs": [],
   "source": [
    "from math import sin, exp\n",
    "from scipy.optimize import minimize\n",
    "from scipy.optimize import differential_evolution\n",
    "\n",
    "def func(x):\n",
    "    return sin(x / 5) * exp(x / 10) + 5 * exp(-x / 2)"
   ]
  },
  {
   "cell_type": "code",
   "execution_count": 9,
   "metadata": {
    "ExecuteTime": {
     "end_time": "2021-02-21T15:06:29.092323Z",
     "start_time": "2021-02-21T15:06:29.080130Z"
    }
   },
   "outputs": [
    {
     "data": {
      "text/plain": [
       "      fun: 1.745268290344928\n",
       " hess_inv: array([[5.98750711]])\n",
       "      jac: array([-2.05636024e-06])\n",
       "  message: 'Optimization terminated successfully.'\n",
       "     nfev: 14\n",
       "      nit: 6\n",
       "     njev: 7\n",
       "   status: 0\n",
       "  success: True\n",
       "        x: array([4.13627619])"
      ]
     },
     "execution_count": 9,
     "metadata": {},
     "output_type": "execute_result"
    }
   ],
   "source": [
    "minimize(func, 2, method='BFGS')"
   ]
  },
  {
   "cell_type": "code",
   "execution_count": 10,
   "metadata": {
    "ExecuteTime": {
     "end_time": "2021-02-21T15:09:29.363853Z",
     "start_time": "2021-02-21T15:09:29.351193Z"
    }
   },
   "outputs": [
    {
     "data": {
      "text/plain": [
       "      fun: -11.898894665981322\n",
       " hess_inv: array([[1.67940841]])\n",
       "      jac: array([0.])\n",
       "  message: 'Optimization terminated successfully.'\n",
       "     nfev: 14\n",
       "      nit: 6\n",
       "     njev: 7\n",
       "   status: 0\n",
       "  success: True\n",
       "        x: array([25.880193])"
      ]
     },
     "execution_count": 10,
     "metadata": {},
     "output_type": "execute_result"
    }
   ],
   "source": [
    "minimize(func, 30, method='BFGS')"
   ]
  },
  {
   "cell_type": "code",
   "execution_count": 35,
   "metadata": {
    "ExecuteTime": {
     "end_time": "2021-02-21T15:46:17.059732Z",
     "start_time": "2021-02-21T15:46:17.025041Z"
    }
   },
   "outputs": [
    {
     "data": {
      "text/plain": [
       "     fun: -11.89889466598127\n",
       "     jac: array([-1.77635669e-07])\n",
       " message: 'Optimization terminated successfully.'\n",
       "    nfev: 83\n",
       "     nit: 4\n",
       " success: True\n",
       "       x: array([25.88019261])"
      ]
     },
     "execution_count": 35,
     "metadata": {},
     "output_type": "execute_result"
    }
   ],
   "source": [
    "differential_evolution(func, [(1, 30)])"
   ]
  },
  {
   "cell_type": "code",
   "execution_count": 39,
   "metadata": {
    "ExecuteTime": {
     "end_time": "2021-02-21T15:52:01.784350Z",
     "start_time": "2021-02-21T15:52:01.778147Z"
    }
   },
   "outputs": [],
   "source": [
    "def int_func(x):\n",
    "    return int(func(x))"
   ]
  },
  {
   "cell_type": "code",
   "execution_count": 42,
   "metadata": {
    "ExecuteTime": {
     "end_time": "2021-02-21T15:53:59.120779Z",
     "start_time": "2021-02-21T15:53:59.110875Z"
    }
   },
   "outputs": [
    {
     "data": {
      "text/plain": [
       "      fun: -5\n",
       " hess_inv: array([[1]])\n",
       "      jac: array([0.])\n",
       "  message: 'Optimization terminated successfully.'\n",
       "     nfev: 2\n",
       "      nit: 0\n",
       "     njev: 1\n",
       "   status: 0\n",
       "  success: True\n",
       "        x: array([30.])"
      ]
     },
     "execution_count": 42,
     "metadata": {},
     "output_type": "execute_result"
    }
   ],
   "source": [
    "minimize(int_func, 30, method='BFGS')"
   ]
  },
  {
   "cell_type": "code",
   "execution_count": 40,
   "metadata": {
    "ExecuteTime": {
     "end_time": "2021-02-21T15:52:03.649869Z",
     "start_time": "2021-02-21T15:52:03.625889Z"
    }
   },
   "outputs": [
    {
     "data": {
      "text/plain": [
       "     fun: -11.0\n",
       " message: 'Optimization terminated successfully.'\n",
       "    nfev: 77\n",
       "     nit: 4\n",
       " success: True\n",
       "       x: array([27.20822622])"
      ]
     },
     "execution_count": 40,
     "metadata": {},
     "output_type": "execute_result"
    }
   ],
   "source": [
    "differential_evolution(int_func, [(1, 30)])"
   ]
  },
  {
   "cell_type": "markdown",
   "metadata": {
    "ExecuteTime": {
     "end_time": "2021-03-01T10:51:34.020024Z",
     "start_time": "2021-03-01T10:51:34.010057Z"
    }
   },
   "source": [
    "<img src=\"screen_score.png\" />"
   ]
  },
  {
   "cell_type": "code",
   "execution_count": null,
   "metadata": {},
   "outputs": [],
   "source": [
    "with open ('answer.txt', 'w') as f:\n",
    "    f.write('-5 -11.0')"
   ]
  }
 ],
 "metadata": {
  "kernelspec": {
   "display_name": "Python 3",
   "language": "python",
   "name": "python3"
  },
  "language_info": {
   "codemirror_mode": {
    "name": "ipython",
    "version": 3
   },
   "file_extension": ".py",
   "mimetype": "text/x-python",
   "name": "python",
   "nbconvert_exporter": "python",
   "pygments_lexer": "ipython3",
   "version": "3.9.1"
  },
  "toc": {
   "base_numbering": 1,
   "nav_menu": {},
   "number_sections": true,
   "sideBar": true,
   "skip_h1_title": false,
   "title_cell": "Table of Contents",
   "title_sidebar": "Contents",
   "toc_cell": false,
   "toc_position": {},
   "toc_section_display": true,
   "toc_window_display": false
  }
 },
 "nbformat": 4,
 "nbformat_minor": 4
}
