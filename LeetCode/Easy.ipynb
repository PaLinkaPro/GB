{
 "cells": [
  {
   "cell_type": "code",
   "execution_count": null,
   "metadata": {},
   "outputs": [],
   "source": [
    "# fancy debugger :p\n",
    "#!pip install icecream\n",
    "from icecream import ic"
   ]
  },
  {
   "cell_type": "markdown",
   "metadata": {},
   "source": [
    "1. Given a valid (IPv4) IP address, return a defanged version of that IP address. A defanged IP address replaces every period \".\" with \"[.]\"."
   ]
  },
  {
   "cell_type": "code",
   "execution_count": 5,
   "metadata": {
    "ExecuteTime": {
     "end_time": "2021-04-28T07:30:03.268776Z",
     "start_time": "2021-04-28T07:30:03.261467Z"
    }
   },
   "outputs": [],
   "source": [
    "#Input: address = \"1.1.1.1\"\n",
    "#Output: \"1[.]1[.]1[.]1\"\n",
    "\n",
    "class Solution:\n",
    "    def defangIPaddr(self, address: str) -> str:\n",
    "        return address.replace('.', '[.]')\n",
    "    \n",
    "# 04/28/2021 10:24\tAccepted\t28 ms\t14 MB\tpython3"
   ]
  },
  {
   "cell_type": "markdown",
   "metadata": {},
   "source": [
    "2. Given an array nums. We define a running sum of an array as runningSum[i] = sum(nums[0]…nums[i]). Return the running sum of nums."
   ]
  },
  {
   "cell_type": "code",
   "execution_count": 4,
   "metadata": {
    "ExecuteTime": {
     "end_time": "2021-04-28T07:29:35.545984Z",
     "start_time": "2021-04-28T07:29:35.537840Z"
    }
   },
   "outputs": [],
   "source": [
    "#Input: nums = [1,2,3,4]\n",
    "#Output: [1,3,6,10]\n",
    "#Explanation: Running sum is obtained as follows: [1, 1+2, 1+2+3, 1+2+3+4].\n",
    "\n",
    "class Solution:\n",
    "    def runningSum(self, nums: list[int]) -> list[int]:\n",
    "        lst = [nums[0]]\n",
    "        for i in range(len(nums) - 1):\n",
    "            lst.append(lst[i] + nums[i+1])\n",
    "        return lst\n",
    "    \n",
    "# 04/27/2021 21:59\tAccepted\t40 ms\t14.3 MB\tpython3"
   ]
  },
  {
   "cell_type": "markdown",
   "metadata": {},
   "source": [
    "3. You are given an m x n integer grid accounts where accounts[i][j] is the amount of money the i​​​​​​​​​​​th​​​​ customer has in the j​​​​​​​​​​​th​​​​ bank. Return the wealth that the richest customer has. A customer's wealth is the amount of money they have in all their bank accounts. The richest customer is the customer that has the maximum wealth."
   ]
  },
  {
   "cell_type": "code",
   "execution_count": 7,
   "metadata": {
    "ExecuteTime": {
     "end_time": "2021-04-28T07:36:45.392517Z",
     "start_time": "2021-04-28T07:36:45.384560Z"
    }
   },
   "outputs": [],
   "source": [
    "#Input: accounts = [[1,2,3],[3,2,1]]\n",
    "#Output: 6\n",
    "#Explanation:\n",
    "#1st customer has wealth = 1 + 2 + 3 = 6\n",
    "#2nd customer has wealth = 3 + 2 + 1 = 6\n",
    "#Both customers are considered the richest with a wealth of 6 each, so return 6.\n",
    "\n",
    "class Solution:\n",
    "    def maximumWealth(self, accounts: list[list[int]]) -> int:\n",
    "        return max([sum(x) for x in accounts])\n",
    "\n",
    "#04/28/2021 10:34\tAccepted\t48 ms\t14.3 MB\tpython3\n",
    "# 48ms faster than 90.76%,  14.3 MB, less than 59.74% "
   ]
  },
  {
   "cell_type": "markdown",
   "metadata": {},
   "source": [
    "4. Given the array candies and the integer extraCandies, where candies[i] represents the number of candies that the ith kid has. For each kid check if there is a way to distribute extraCandies among the kids such that he or she can have the greatest number of candies among them. Notice that multiple kids can have the greatest number of candies."
   ]
  },
  {
   "cell_type": "code",
   "execution_count": 9,
   "metadata": {
    "ExecuteTime": {
     "end_time": "2021-04-28T07:49:12.602096Z",
     "start_time": "2021-04-28T07:49:12.591397Z"
    }
   },
   "outputs": [],
   "source": [
    "#Input: candies = [2,3,5,1,3], extraCandies = 3\n",
    "#Output: [true,true,true,false,true]\n",
    "\n",
    "class Solution:\n",
    "    def kidsWithCandies(self, candies: list[int], extraCandies: int) -> list[bool]:\n",
    "        mx = max(candies)\n",
    "        return [(i + extraCandies) >= mx for i in candies]\n",
    "\n",
    "# 04/28/2021 10:46\tAccepted\t36 ms\t14.4 MB\tpython3"
   ]
  },
  {
   "cell_type": "markdown",
   "metadata": {},
   "source": [
    "5. Given the array nums consisting of 2n elements in the form [x1,x2,...,xn,y1,y2,...,yn]. Return the array in the form [x1,y1,x2,y2,...,xn,yn].\n",
    "\n"
   ]
  },
  {
   "cell_type": "code",
   "execution_count": 11,
   "metadata": {
    "ExecuteTime": {
     "end_time": "2021-04-29T06:52:50.217433Z",
     "start_time": "2021-04-29T06:52:50.211773Z"
    }
   },
   "outputs": [],
   "source": [
    "#Input: nums = [2,5,1,3,4,7], n = 3\n",
    "#Output: [2,3,5,4,1,7] \n",
    "\n",
    "class Solution:\n",
    "    def shuffle(self, nums: list[int], n: int) -> list[int]:\n",
    "        lst = [None for i in range(len(nums))]\n",
    "        mid = int(len(nums) / 2)\n",
    "        lst[::2] = nums[:mid]\n",
    "        lst[1::2] = nums[mid:]\n",
    "        return lst\n",
    "\n",
    "# 04/29/2021 09:50\tAccepted\t60 ms\t14.4 MB\tpython3"
   ]
  },
  {
   "cell_type": "markdown",
   "metadata": {},
   "source": [
    "6. Given an array of integers nums. A pair (i,j) is called good if nums[i] == nums[j] and i < j. Return the number of good pairs."
   ]
  },
  {
   "cell_type": "code",
   "execution_count": 6,
   "metadata": {
    "ExecuteTime": {
     "end_time": "2021-05-02T09:17:01.520647Z",
     "start_time": "2021-05-02T09:17:01.513729Z"
    }
   },
   "outputs": [],
   "source": [
    "#Input: nums = [1,2,3,1,1,3]\n",
    "#Output: 4\n",
    "class Solution:\n",
    "    def numIdenticalPairs(self, nums: list[int]) -> int:\n",
    "        counter = 0\n",
    "        for i in range(len(nums)):\n",
    "            for j in range(len(nums)):\n",
    "                if nums[i] == nums[j] and i < j:\n",
    "                    counter += 1\n",
    "        return counter\n",
    "\n",
    "#05/02/2021 12:16\tAccepted\t32 ms\t14.1 MB\tpython3"
   ]
  },
  {
   "cell_type": "markdown",
   "metadata": {},
   "source": [
    "7. You're given strings jewels representing the types of stones that are jewels, and stones representing the stones you have. Each character in stones is a type of stone you have. You want to know how many of the stones you have are also jewels. Letters are case sensitive, so \"a\" is considered a different type of stone from \"A\"."
   ]
  },
  {
   "cell_type": "code",
   "execution_count": 16,
   "metadata": {
    "ExecuteTime": {
     "end_time": "2021-05-02T09:28:40.090447Z",
     "start_time": "2021-05-02T09:28:40.081779Z"
    }
   },
   "outputs": [],
   "source": [
    "#Input: jewels = \"aA\", stones = \"aAAbbbb\"\n",
    "#Output: 3\n",
    "\n",
    "# not efficient enough\n",
    "class Solution:\n",
    "    def numJewelsInStones(self, jewels: str, stones: str) -> int:\n",
    "        counter = 0\n",
    "\n",
    "        for i in range(len(stones)):\n",
    "            if list(stones)[i] in list(jewels):\n",
    "                counter += 1\n",
    "        return counter\n",
    "    \n",
    "# 05/02/2021 12:23\tAccepted\t32 ms\t14.2 MB\tpython3\n",
    "\n",
    "# the best one(not mine)\n",
    "class Solution:\n",
    "    def numJewelsInStones(self, jewels: str, stones: str) -> int:\n",
    "        counter = 0\n",
    "        for i in stones:\n",
    "            if i in jewels:\n",
    "                counter += 1\n",
    "        return counter\n",
    "    \n",
    "# 05/02/2021 12:25\tAccepted\t20 ms\t14.1 MB\tpython3"
   ]
  },
  {
   "cell_type": "markdown",
   "metadata": {},
   "source": [
    "8. Design a parking system for a parking lot. The parking lot has three kinds of parking spaces: big, medium, and small, with a fixed number of slots for each size.\n",
    "\n",
    "    Implement the ParkingSystem class:\n",
    "\n",
    "    ParkingSystem(int big, int medium, int small) Initializes object of the ParkingSystem class. The number of slots for each parking space are given as part of the constructor.  \n",
    "    bool addCar(int carType) Checks whether there is a parking space of carType for the car that wants to get into the parking lot. carType can be of three kinds: big, medium, or small, which are represented by 1, 2, and 3 respectively. A car can only park in a parking space of its carType. If there is no space available, return false, else park the car in that size space and return true.\n"
   ]
  },
  {
   "cell_type": "code",
   "execution_count": 22,
   "metadata": {
    "ExecuteTime": {
     "end_time": "2021-05-02T09:53:09.139361Z",
     "start_time": "2021-05-02T09:53:09.130395Z"
    }
   },
   "outputs": [],
   "source": [
    "#Input\n",
    "#[\"ParkingSystem\", \"addCar\", \"addCar\", \"addCar\", \"addCar\"]\n",
    "#[[1, 1, 0], [1], [2], [3], [1]]\n",
    "#Output\n",
    "#[null, true, true, false, false]\n",
    "\n",
    "\n",
    "class ParkingSystem:\n",
    "\n",
    "    def __init__(self, big: int, medium: int, small: int):\n",
    "        self.big = big\n",
    "        self.medium = medium\n",
    "        self.small = small\n",
    "        \n",
    "\n",
    "    def addCar(self, carType: int) -> bool:\n",
    "        if carType == 1 and self.big:\n",
    "            self.big -= 1\n",
    "            return True\n",
    "        elif carType == 2 and self.medium:\n",
    "            self.medium -= 1\n",
    "            return True\n",
    "        elif carType == 3 and self.small:\n",
    "            self.small -= 1\n",
    "            return True\n",
    "        else:\n",
    "            return False\n",
    "        \n",
    "# 05/02/2021 12:51\tAccepted\t140 ms\t14.6 MB\tpython3"
   ]
  },
  {
   "cell_type": "markdown",
   "metadata": {},
   "source": [
    "9. Given the array nums, for each nums[i] find out how many numbers in the array are smaller than it. That is, for each nums[i] you have to count the number of valid j's such that j != i and nums[j] < nums[i].\n",
    "    Return the answer in an array."
   ]
  },
  {
   "cell_type": "code",
   "execution_count": 33,
   "metadata": {
    "ExecuteTime": {
     "end_time": "2021-05-02T10:25:11.710870Z",
     "start_time": "2021-05-02T10:25:11.702460Z"
    }
   },
   "outputs": [],
   "source": [
    "#Input: nums = [8,1,2,2,3]\n",
    "#Output: [4,0,1,1,3]\n",
    "\n",
    "# really bad solution :p\n",
    "class Solution:\n",
    "    def smallerNumbersThanCurrent(self, nums: list[int]) -> list[int]:\n",
    "        lst = []\n",
    "        for i in range(len(nums)):\n",
    "            counter = 0\n",
    "            for j in range(len(nums)):\n",
    "                if nums[j] < nums[i] and i != j:\n",
    "                    counter += 1\n",
    "            lst.append(counter)\n",
    "        return lst\n",
    "    \n",
    "# 05/02/2021 13:19\tAccepted\t480 ms\t14.4 MB\tpython3"
   ]
  },
  {
   "cell_type": "code",
   "execution_count": 34,
   "metadata": {
    "ExecuteTime": {
     "end_time": "2021-05-02T10:25:33.767130Z",
     "start_time": "2021-05-02T10:25:33.760565Z"
    }
   },
   "outputs": [],
   "source": [
    "# a better one\n",
    "class Solution:\n",
    "    def smallerNumbersThanCurrent(self, nums: list[int]) -> list[int]:\n",
    "        return [sorted(nums).index(x) for x in nums]\n",
    "    \n",
    "# 05/02/2021 13:25\tAccepted\t244 ms\t14.2 MB\tpython3"
   ]
  },
  {
   "cell_type": "code",
   "execution_count": 37,
   "metadata": {
    "ExecuteTime": {
     "end_time": "2021-05-02T10:28:03.075176Z",
     "start_time": "2021-05-02T10:28:03.065772Z"
    }
   },
   "outputs": [],
   "source": [
    "# faster\n",
    "class Solution:\n",
    "    def smallerNumbersThanCurrent(self, nums: list[int]) -> list[int]:\n",
    "        l=sorted(nums)\n",
    "    \n",
    "        res=[]\n",
    "        for i in range(len(nums)):\n",
    "            res.append(l.index(nums[i]))\n",
    "        return res\n",
    "# 05/02/2021 13:26\tAccepted\t72 ms\t14.2 MB\tpython3"
   ]
  },
  {
   "cell_type": "markdown",
   "metadata": {},
   "source": [
    "10. Given a string s and an integer array indices of the same length.\n",
    "\n",
    "    The string s will be shuffled such that the character at the ith position moves to indices[i] in the shuffled string.\n",
    "\n",
    "    Return the shuffled string."
   ]
  },
  {
   "cell_type": "code",
   "execution_count": 46,
   "metadata": {
    "ExecuteTime": {
     "end_time": "2021-05-02T10:38:28.345478Z",
     "start_time": "2021-05-02T10:38:28.338769Z"
    }
   },
   "outputs": [],
   "source": [
    "# memory inefficient\n",
    "\n",
    "#Input: s = \"codeleet\", indices = [4,5,6,7,0,2,1,3]\n",
    "#Output: \"leetcode\"\n",
    "\n",
    "class Solution:\n",
    "    def restoreString(self, s: str, indices: list[int]) -> str:\n",
    "        res = [None for i in range(len(s))]\n",
    "        for i, j in zip(s, indices):\n",
    "            res[j] = i\n",
    "        return ''.join(res)\n",
    "        \n",
    "# 05/02/2021 13:37\tAccepted\t56 ms\t14.3 MB\tpython3   "
   ]
  },
  {
   "cell_type": "markdown",
   "metadata": {},
   "source": [
    "11. Given an integer number n, return the difference between the product of its digits and the sum of its digits."
   ]
  },
  {
   "cell_type": "code",
   "execution_count": 3,
   "metadata": {
    "ExecuteTime": {
     "end_time": "2021-05-03T08:39:10.823674Z",
     "start_time": "2021-05-03T08:39:10.816567Z"
    }
   },
   "outputs": [],
   "source": [
    "# memory inefficient\n",
    "#Input: n = 234\n",
    "#Output: 15 \n",
    "\n",
    "class Solution:\n",
    "    def subtractProductAndSum(self, n: int) -> int:\n",
    "        num = str(n)\n",
    "        sum_ = 0\n",
    "        prod = 1\n",
    "        for i in num:\n",
    "            sum_ += int(i)\n",
    "            prod *= int(i)\n",
    "        return prod - sum_\n",
    "    \n",
    "# 05/03/2021 11:33\tAccepted\t32 ms\t14.3 MB\tpython3\n",
    "\n",
    "#Runtime: 32 ms, faster than 50.11% of Python3 online submissions for Subtract the Product and Sum of Digits of an Integer.\n",
    "#Memory Usage: 14.3 MB, less than 12.25% of Python3 online submissions for Subtract the Product and Sum of Digits of an Integer."
   ]
  },
  {
   "cell_type": "code",
   "execution_count": 4,
   "metadata": {
    "ExecuteTime": {
     "end_time": "2021-05-03T08:39:41.623941Z",
     "start_time": "2021-05-03T08:39:41.617014Z"
    }
   },
   "outputs": [],
   "source": [
    "# faster and lighter\n",
    "class Solution:\n",
    "    def subtractProductAndSum(self, n: int) -> int:\n",
    "        digits = []\n",
    "        while n:\n",
    "            digits.append(n % 10)\n",
    "            n //= 10\n",
    "        return prod(digits) - sum(digits)\n",
    "    \n",
    "# 05/03/2021 11:40\tAccepted\t24 ms\t14.1 MB\tpython3"
   ]
  },
  {
   "cell_type": "markdown",
   "metadata": {},
   "source": [
    "12. Given a non-negative integer num, return the number of steps to reduce it to zero. If the current number is even, you have to divide it by 2, otherwise, you have to subtract 1 from it."
   ]
  },
  {
   "cell_type": "code",
   "execution_count": 14,
   "metadata": {
    "ExecuteTime": {
     "end_time": "2021-05-03T10:00:35.500912Z",
     "start_time": "2021-05-03T10:00:35.489188Z"
    }
   },
   "outputs": [],
   "source": [
    "#Input: num = 14\n",
    "#Output: 6\n",
    "class Solution:\n",
    "    def numberOfSteps(self, num: int) -> int:\n",
    "        counter = 0\n",
    "        while num:\n",
    "            if num % 2 == 0:\n",
    "                num /= 2\n",
    "                counter += 1\n",
    "            else:\n",
    "                num -= 1\n",
    "                counter += 1\n",
    "        return counter\n",
    "# 05/03/2021 12:58\tAccepted\t24 ms\t14.2 MB\tpython3"
   ]
  },
  {
   "cell_type": "markdown",
   "metadata": {},
   "source": [
    "13. We are given a list nums of integers representing a list compressed with run-length encoding.  \n",
    "Consider each adjacent pair of elements [freq, val] = [nums[2*i], nums[2*i+1]] (with i >= 0).  For each such pair, there are freq elements with value val concatenated in a sublist.   \n",
    "Concatenate all the sublists from left to right to generate the decompressed list.Return the decompressed list."
   ]
  },
  {
   "cell_type": "code",
   "execution_count": 26,
   "metadata": {
    "ExecuteTime": {
     "end_time": "2021-05-03T12:01:42.840249Z",
     "start_time": "2021-05-03T12:01:42.827774Z"
    }
   },
   "outputs": [],
   "source": [
    "#Input: nums = [1,2,3,4]\n",
    "#Output: [2,4,4,4]\n",
    "\n",
    "class Solution:\n",
    "    def decompressRLElist(self, nums: list[int]) -> list[int]:\n",
    "        lst = []\n",
    "        for i,j in zip(nums[::2], nums[1::2]):\n",
    "            lst += [j] * i\n",
    "        return lst\n",
    "    \n",
    "# 05/03/2021 15:00\tAccepted\t64 ms\t14.8 MB\tpython3"
   ]
  },
  {
   "cell_type": "markdown",
   "metadata": {},
   "source": [
    "14. There is a hidden integer array arr that consists of n non-negative integers.  \n",
    "It was encoded into another integer array encoded of length n - 1, such that encoded[i] = arr[i] XOR arr[i + 1]. For example, if arr = [1,0,2,1], then encoded = [1,2,3].  \n",
    "You are given the encoded array. You are also given an integer first, that is the first element of arr, i.e.   arr[0].  \n",
    "Return the original array arr. It can be proved that the answer exists and is unique.  \n",
    "\n"
   ]
  },
  {
   "cell_type": "code",
   "execution_count": 43,
   "metadata": {
    "ExecuteTime": {
     "end_time": "2021-05-03T12:25:22.224793Z",
     "start_time": "2021-05-03T12:25:22.214232Z"
    }
   },
   "outputs": [],
   "source": [
    "#Input: encoded = [1,2,3], first = 1\n",
    "#Output: [1,0,2,1]\n",
    "\n",
    "# memory inefficient\n",
    "arr = [None for x in range(len(encoded) + 1)]\n",
    "arr[0] = first\n",
    "for i in range(len(encoded)):\n",
    "    arr[i + 1] = encoded[i] ^ arr[i]\n",
    "    \n",
    "# a better one\n",
    "\n",
    "class Solution:\n",
    "    def decode(self, encoded: list[int], first: int) -> list[int]:\n",
    "        arr = []\n",
    "        arr.append(first)\n",
    "        for i in range(len(encoded)):\n",
    "            arr.append(encoded[i] ^ arr[i])\n",
    "        return arr\n",
    "\n",
    "# 05/03/2021 15:19\tAccepted\t224 ms\t15.7 MB\tpython3"
   ]
  },
  {
   "cell_type": "markdown",
   "metadata": {},
   "source": [
    "15. You own a Goal Parser that can interpret a string command. The command consists of an alphabet of \"G\", \"()\" and/or \"(al)\" in some order. The Goal Parser will interpret \"G\" as the string \"G\", \"()\" as the string \"o\", and \"(al)\" as the string \"al\". The interpreted strings are then concatenated in the original order. Given the string command, return the Goal Parser's interpretation of command."
   ]
  },
  {
   "cell_type": "code",
   "execution_count": 44,
   "metadata": {
    "ExecuteTime": {
     "end_time": "2021-05-03T12:25:23.500451Z",
     "start_time": "2021-05-03T12:25:23.492173Z"
    }
   },
   "outputs": [],
   "source": [
    "#Input: command = \"G()(al)\"\n",
    "#Output: \"Goal\"\n",
    "\n",
    "class Solution:\n",
    "    def interpret(self, command: str) -> str:\n",
    "        return command.replace('()', 'o').replace('(', '').replace(')', '')\n",
    "    \n",
    "# 05/03/2021 15:24\tAccepted\t32 ms\t14.2 MB\tpython3"
   ]
  },
  {
   "cell_type": "code",
   "execution_count": null,
   "metadata": {},
   "outputs": [],
   "source": []
  }
 ],
 "metadata": {
  "kernelspec": {
   "display_name": "Python 3",
   "language": "python",
   "name": "python3"
  },
  "language_info": {
   "codemirror_mode": {
    "name": "ipython",
    "version": 3
   },
   "file_extension": ".py",
   "mimetype": "text/x-python",
   "name": "python",
   "nbconvert_exporter": "python",
   "pygments_lexer": "ipython3",
   "version": "3.9.1"
  },
  "toc": {
   "base_numbering": 1,
   "nav_menu": {},
   "number_sections": true,
   "sideBar": true,
   "skip_h1_title": false,
   "title_cell": "Table of Contents",
   "title_sidebar": "Contents",
   "toc_cell": false,
   "toc_position": {},
   "toc_section_display": true,
   "toc_window_display": false
  }
 },
 "nbformat": 4,
 "nbformat_minor": 4
}
